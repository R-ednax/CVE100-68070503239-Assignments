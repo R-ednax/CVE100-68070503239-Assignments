{
 "cells": [
  {
   "cell_type": "markdown",
   "id": "d4417fc5",
   "metadata": {},
   "source": [
    "# Even and Odd\n",
    "itirate for loop from number 1 to n:\n",
    "if the number is even, print \"[number] is eeven\"\n",
    "otherwise, print\"[number] is odd\""
   ]
  },
  {
   "cell_type": "code",
   "execution_count": 41,
   "id": "96b19a00",
   "metadata": {},
   "outputs": [
    {
     "name": "stdout",
     "output_type": "stream",
     "text": [
      "1 is Odd\n",
      "2 is Even\n",
      "3 is Odd\n",
      "4 is Even\n",
      "5 is Odd\n",
      "6 is Even\n",
      "7 is Odd\n",
      "8 is Even\n",
      "9 is Odd\n"
     ]
    }
   ],
   "source": [
    "n = 10\n",
    "for i in range(1,n):\n",
    "    if i % 2 == 0:\n",
    "        print(i, \"is Even\")\n",
    "    else:\n",
    "        print(i, \"is Odd\")\n",
    "\n"
   ]
  },
  {
   "cell_type": "markdown",
   "id": "6dd25276",
   "metadata": {},
   "source": [
    "Multiplication\n",
    "- define n (n = 5)\n",
    "- use a loop from 1 to 10 (the values of i is 1 to 10)\n",
    "-  if thte result of multiplication (num*i) is greater than 50 => print (\"The result is large\")\n",
    "- otherwise, print the actual result ==> print (\"Result=\", result)"
   ]
  },
  {
   "cell_type": "code",
   "execution_count": 42,
   "id": "1399faf1",
   "metadata": {},
   "outputs": [
    {
     "name": "stdout",
     "output_type": "stream",
     "text": [
      "Result = 5\n",
      "Result = 10\n",
      "Result = 15\n",
      "Result = 20\n",
      "Result = 25\n",
      "Result = 30\n",
      "Result = 35\n",
      "Result = 40\n",
      "Result = 45\n",
      "Result = 50\n"
     ]
    }
   ],
   "source": [
    "num = 5 \n",
    "for i in range(1, 11):\n",
    "    if i*num > 50:\n",
    "        print(\"The result is large\")\n",
    "    else:\n",
    "        print(\"Result =\", i*num)\n"
   ]
  },
  {
   "cell_type": "markdown",
   "id": "0c7f36f5",
   "metadata": {},
   "source": [
    "Skipping the special numbers \n",
    "\n",
    "- define n \n",
    "- loop numbers from 1 to n\n",
    "- if the numbers is divisible 4 ==> skip it with continue\n",
    "- if the number is greater than 20 ==> stop the loop with break\n",
    "- otherwise ==> print the number"
   ]
  },
  {
   "cell_type": "code",
   "execution_count": 43,
   "id": "88aec012",
   "metadata": {},
   "outputs": [
    {
     "name": "stdout",
     "output_type": "stream",
     "text": [
      "4\n",
      "8\n"
     ]
    }
   ],
   "source": [
    "n = 12\n",
    "\n",
    "for i in range(1, n):\n",
    "    if i % 4:\n",
    "        continue\n",
    "    elif i > 20:\n",
    "        break\n",
    "    else:\n",
    "        print(i)"
   ]
  },
  {
   "cell_type": "markdown",
   "id": "1ef76ef8",
   "metadata": {},
   "source": [
    "Guess the number\n",
    "The secret number is 777.\n",
    "- Ask the user to guess untill they get it right\n",
    "- If the guess is wrong, print \" Try Again\"\n",
    "- If the guess is correct, print \" You got it\" stop the loop.\n"
   ]
  },
  {
   "cell_type": "code",
   "execution_count": 44,
   "id": "1f44c287",
   "metadata": {},
   "outputs": [
    {
     "name": "stdout",
     "output_type": "stream",
     "text": [
      "You got it\n"
     ]
    }
   ],
   "source": [
    "secret = 777\n",
    "guess = 2\n",
    "while secret != guess:\n",
    "    guess = int(input(\"Guess three digit lucky number from 000 to 999\"))\n",
    "    if guess == 777:\n",
    "        print(\"You got it\")\n",
    "        break\n",
    "    else:\n",
    "        print(\"Try again\")\n"
   ]
  },
  {
   "cell_type": "markdown",
   "id": "c2b642b0",
   "metadata": {},
   "source": [
    "Shopping Cart Checkout System\n",
    "\n",
    "- Use initital variable total_bill = 0\n",
    "- Ask user to add price and add the price to total_bill.\n",
    "- If total_bill > 1000, print(\"Limit reached. You cannot buy anymore\")\n",
    "- Otherwise, ask user to add price"
   ]
  },
  {
   "cell_type": "code",
   "execution_count": 45,
   "id": "d550c179",
   "metadata": {},
   "outputs": [
    {
     "name": "stdout",
     "output_type": "stream",
     "text": [
      "Add price\n",
      "Limit reached. You cannot buy anymore\n"
     ]
    }
   ],
   "source": [
    "total_bill = 0\n",
    "price = 1\n",
    "while total_bill != 1000:\n",
    "    price = int(input(\"Add price\"))\n",
    "    if price + total_bill < 1000:\n",
    "        total_bill = price + total_bill\n",
    "        print(\"Add price\")\n",
    "    else:\n",
    "        print(\"Limit reached. You cannot buy anymore\")\n",
    "        break\n",
    "        \n",
    "\n",
    "    \n",
    "\n",
    "\n"
   ]
  },
  {
   "cell_type": "code",
   "execution_count": null,
   "id": "655d7a62",
   "metadata": {},
   "outputs": [],
   "source": []
  }
 ],
 "metadata": {
  "kernelspec": {
   "display_name": "Python 3",
   "language": "python",
   "name": "python3"
  },
  "language_info": {
   "codemirror_mode": {
    "name": "ipython",
    "version": 3
   },
   "file_extension": ".py",
   "mimetype": "text/x-python",
   "name": "python",
   "nbconvert_exporter": "python",
   "pygments_lexer": "ipython3",
   "version": "3.12.6"
  }
 },
 "nbformat": 4,
 "nbformat_minor": 5
}
