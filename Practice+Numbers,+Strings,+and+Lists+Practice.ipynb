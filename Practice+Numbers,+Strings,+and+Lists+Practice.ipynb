{
 "cells": [
  {
   "cell_type": "markdown",
   "metadata": {},
   "source": [
    "#  Numbers"
   ]
  },
  {
   "cell_type": "markdown",
   "metadata": {},
   "source": [
    "Compute the number of bytes in one Gigabyte (1kb = 1024 bytes, 1mb = 1024 kb, 1gb = 1024 mb)"
   ]
  },
  {
   "cell_type": "code",
   "execution_count": null,
   "metadata": {
    "collapsed": false
   },
   "outputs": [],
   "source": [
    "#Write your code here\n",
    "gb = 1024 * (mb)\n",
    "mb = 1024 * (kb)\n",
    "kb = 1024 * (b)\n",
    "b = 1\n",
    "\n",
    "gb"
   ]
  },
  {
   "cell_type": "markdown",
   "metadata": {},
   "source": [
    "You bought 500 shares of stock A at $\\$$600 on day 0 and you sold it at  $\\$$1000 on day 700.\n",
    "The daily discount rate is 0.0001%. How much profit did you make in terms of net present value.\n"
   ]
  },
  {
   "cell_type": "code",
   "execution_count": 28,
   "metadata": {
    "collapsed": false
   },
   "outputs": [
    {
     "data": {
      "text/plain": [
       "199860.04905853115"
      ]
     },
     "execution_count": 28,
     "metadata": {},
     "output_type": "execute_result"
    }
   ],
   "source": [
    "#Write your code here\n",
    "Shares = 500\n",
    "Purchased_Price = 600\n",
    "Sale_Price = 1000\n",
    "Purchased_Date = 0 \n",
    "Sale_Date = 700\n",
    "DDR = 0.000001\n",
    "# Converted it \n",
    "\n",
    "x = (Shares * Sale_Price)\n",
    "y = (Shares * Purchased_Price)\n",
    "\n",
    "z = x - y \n",
    "\n",
    "profit = z / (1+DDR) ** Sale_Date\n",
    "\n",
    "profit\n",
    "\n"
   ]
  },
  {
   "cell_type": "markdown",
   "metadata": {},
   "source": [
    "For any value of x, create a variable called even_check that is True if x is even and False if x is odd. "
   ]
  },
  {
   "cell_type": "code",
   "execution_count": 29,
   "metadata": {
    "collapsed": false,
    "run_control": {
     "marked": true
    }
   },
   "outputs": [
    {
     "data": {
      "text/plain": [
       "True"
      ]
     },
     "execution_count": 29,
     "metadata": {},
     "output_type": "execute_result"
    }
   ],
   "source": [
    "#Write your code here\n",
    "x = 1020020\n",
    "even_check = x % 2 == 0 \n",
    "even_check"
   ]
  },
  {
   "cell_type": "markdown",
   "metadata": {},
   "source": [
    "You have num_shirts t-shirts, num_shorts pairs of shorts and num_shoes pairs of shoes.  Create a variable called num_outfits that stores the total number of different outfits you can make."
   ]
  },
  {
   "cell_type": "code",
   "execution_count": 30,
   "metadata": {
    "collapsed": false
   },
   "outputs": [
    {
     "data": {
      "text/plain": [
       "75"
      ]
     },
     "execution_count": 30,
     "metadata": {},
     "output_type": "execute_result"
    }
   ],
   "source": [
    "#Write your code here\n",
    "n_shirts = 5\n",
    "n_shorts = 5\n",
    "n_shoes = 3\n",
    "\n",
    "num_outfits = (n_shirts * n_shorts * n_shoes)\n",
    "num_outfits\n"
   ]
  },
  {
   "cell_type": "markdown",
   "metadata": {},
   "source": [
    "# String Practice\n",
    "\n",
    "Create variable called \"name\" that stores your full name. Find whether your name has an even or odd number of letters."
   ]
  },
  {
   "cell_type": "code",
   "execution_count": 31,
   "metadata": {
    "collapsed": false
   },
   "outputs": [
    {
     "name": "stdout",
     "output_type": "stream",
     "text": [
      "False\n"
     ]
    }
   ],
   "source": [
    "#Write your code here\n",
    "name = (\"Xander Bienne Manrique Caraig\")\n",
    "name_length = len(name)\n",
    "\n",
    "if name_length % 2==0:\n",
    "   print(\"True\")\n",
    "else:\n",
    "    print(\"False\")\n"
   ]
  },
  {
   "cell_type": "markdown",
   "metadata": {},
   "source": [
    "Correct the following variable so it is equal to \"spammy\""
   ]
  },
  {
   "cell_type": "code",
   "execution_count": 32,
   "metadata": {
    "collapsed": false
   },
   "outputs": [
    {
     "data": {
      "text/plain": [
       "'spammy'"
      ]
     },
     "execution_count": 32,
     "metadata": {},
     "output_type": "execute_result"
    }
   ],
   "source": [
    "#Write your code here\n",
    "s = \"spaxxy\"\n",
    "x = s.replace(\"x\",\"m\")\n",
    "\n",
    "x\n",
    "\n"
   ]
  },
  {
   "cell_type": "markdown",
   "metadata": {},
   "source": [
    "Figure out a way to slice and combine the strings s1, s2, and s3 so that the variable consec_ints = \"123456789\"."
   ]
  },
  {
   "cell_type": "code",
   "execution_count": 33,
   "metadata": {
    "collapsed": false
   },
   "outputs": [
    {
     "data": {
      "text/plain": [
       "'123456789'"
      ]
     },
     "execution_count": 33,
     "metadata": {},
     "output_type": "execute_result"
    }
   ],
   "source": [
    "s1 = \"12345\"\n",
    "s2 = \"34567\"\n",
    "s3 = \"789\"\n",
    "\n",
    "#Write your code here\n",
    "X = ( s1 + s2[3:] + s3[1:])\n",
    "X"
   ]
  },
  {
   "cell_type": "markdown",
   "metadata": {},
   "source": [
    "#  List Practice\n",
    "\n"
   ]
  },
  {
   "cell_type": "markdown",
   "metadata": {},
   "source": [
    "Add the first and last elements of the list L. Store the result in a variable called sum_first_last. Your code should work if I change L."
   ]
  },
  {
   "cell_type": "code",
   "execution_count": 10,
   "metadata": {
    "collapsed": false
   },
   "outputs": [
    {
     "name": "stdout",
     "output_type": "stream",
     "text": [
      "72\n"
     ]
    }
   ],
   "source": [
    "L = [5,1,43,2,4,56,7,90, 67]\n",
    "\n",
    "#Write your code here\n",
    "sum_first_last = L[0] + L[-1]\n",
    "\n",
    "print(sum_first_last)\n"
   ]
  },
  {
   "cell_type": "markdown",
   "metadata": {},
   "source": [
    "Slice and combine the elements of the list L in a way to print out \"spam\"."
   ]
  },
  {
   "cell_type": "code",
   "execution_count": 27,
   "metadata": {
    "collapsed": false
   },
   "outputs": [
    {
     "data": {
      "text/plain": [
       "'spam'"
      ]
     },
     "execution_count": 27,
     "metadata": {},
     "output_type": "execute_result"
    }
   ],
   "source": [
    "L = [1,\"s\", 2, 3, \"p\", \"a\", 34,1,\"m\"]\n",
    "\n",
    "\n",
    "#Write your code here\n",
    "spam = L[1] + L[4] + L[5] + L[8]\n",
    "\n",
    "spam\n",
    "\n",
    "\n",
    "\n"
   ]
  },
  {
   "cell_type": "markdown",
   "metadata": {},
   "source": [
    "Create a variable called num_L which store the number represented by the list of strings in L.  For the example num_L should be 145. You may assume 3 digit numbers."
   ]
  },
  {
   "cell_type": "code",
   "execution_count": 35,
   "metadata": {
    "collapsed": false
   },
   "outputs": [
    {
     "data": {
      "text/plain": [
       "145"
      ]
     },
     "execution_count": 35,
     "metadata": {},
     "output_type": "execute_result"
    }
   ],
   "source": [
    "L = [\"1\",\"4\",\"5\" ]\n",
    "\n",
    "#Write you code here\n",
    "num_L = int(\"\".join(L))\n",
    "num_L\n"
   ]
  },
  {
   "cell_type": "markdown",
   "metadata": {},
   "source": [
    "Create a list L of numbers of odd length.  Complete the following tasks:\n",
    "\n",
    " - Find the median element\n",
    " - Slice out all element indexed lower than the median element"
   ]
  },
  {
   "cell_type": "code",
   "execution_count": 43,
   "metadata": {
    "collapsed": false
   },
   "outputs": [
    {
     "data": {
      "text/plain": [
       "[4, 5, 3, 2, 6]"
      ]
     },
     "execution_count": 43,
     "metadata": {},
     "output_type": "execute_result"
    }
   ],
   "source": [
    "L= [4,5,3,2,6,6,9]\n",
    "\n",
    "#Write your code here\n",
    "X = len(L) // 2\n",
    "X = sorted(L)[X]\n",
    "\n",
    "Y = L[:X]\n",
    "\n",
    "X \n",
    "Y"
   ]
  }
 ],
 "metadata": {
  "kernelspec": {
   "display_name": "Python 3",
   "language": "python",
   "name": "python3"
  },
  "language_info": {
   "codemirror_mode": {
    "name": "ipython",
    "version": 3
   },
   "file_extension": ".py",
   "mimetype": "text/x-python",
   "name": "python",
   "nbconvert_exporter": "python",
   "pygments_lexer": "ipython3",
   "version": "3.11.9"
  },
  "toc": {
   "colors": {
    "hover_highlight": "#DAA520",
    "navigate_num": "#000000",
    "navigate_text": "#333333",
    "running_highlight": "#FF0000",
    "selected_highlight": "#FFD700",
    "sidebar_border": "#EEEEEE",
    "wrapper_background": "#FFFFFF"
   },
   "moveMenuLeft": true,
   "nav_menu": {
    "height": "12px",
    "width": "252px"
   },
   "navigate_menu": true,
   "number_sections": true,
   "sideBar": true,
   "skip_h1_title": false,
   "threshold": 4,
   "toc_cell": false,
   "toc_position": {},
   "toc_section_display": "block",
   "toc_window_display": false,
   "widenNotebook": false
  }
 },
 "nbformat": 4,
 "nbformat_minor": 2
}
